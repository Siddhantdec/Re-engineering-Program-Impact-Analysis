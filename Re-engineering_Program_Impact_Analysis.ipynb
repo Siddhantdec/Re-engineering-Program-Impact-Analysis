{
 "cells": [
  {
   "cell_type": "markdown",
   "id": "524acf07",
   "metadata": {},
   "source": [
    "# Hypothesis Testing :Re-engineering Program Impact Analysis"
   ]
  },
  {
   "cell_type": "code",
   "execution_count": null,
   "id": "21171544",
   "metadata": {},
   "outputs": [],
   "source": [
    "# Load the data\n",
    "Treatment = pd.read_csv( 'Treatment_Facility.csv' )\n",
    "Treatment"
   ]
  },
  {
   "cell_type": "code",
   "execution_count": null,
   "id": "b404c499",
   "metadata": {},
   "outputs": [],
   "source": [
    "# Effect of Re-engineering program on Employment turnover."
   ]
  },
  {
   "cell_type": "markdown",
   "id": "aebc3e49",
   "metadata": {},
   "source": [
    "**Null hypothesis (Ho): Reengineering program has no effect on the Employee turnover percentage.**\n",
    "    \n",
    "**Alternate Hypothesis (Ha) :  Reengineering program has an effect on the Employee turnover percentage.**\n",
    "    \n",
    "**Confidence Interval : 95% ; p-value : 0.05**"
   ]
  },
  {
   "cell_type": "code",
   "execution_count": null,
   "id": "cd74e346",
   "metadata": {},
   "outputs": [],
   "source": [
    "Prior = Treatment.loc[Treatment.Reengineer == 'Prior', 'Employee_Turnover']\n",
    "Post  = Treatment.loc[Treatment.Reengineer == 'Post', 'Employee_Turnover']\n",
    "\n",
    "print('Mean of Employee turnover percentage prior to Reengineering program:',Prior.mean())\n",
    "print('Mean of Employee turnover percentage post to Reengineering program:',Post.mean())"
   ]
  },
  {
   "cell_type": "code",
   "execution_count": null,
   "id": "6a47c04f",
   "metadata": {},
   "outputs": [],
   "source": [
    "stats.f_oneway(Prior, Post)"
   ]
  },
  {
   "cell_type": "markdown",
   "id": "ad8a0cbb",
   "metadata": {},
   "source": [
    "***p-value > 0.05, we cannot reject the null hypothesis, and hence we can say Re-engineering program has no effect on the Employee turnover percentage.***"
   ]
  },
  {
   "cell_type": "code",
   "execution_count": 1,
   "id": "961166df",
   "metadata": {},
   "outputs": [],
   "source": [
    "# Effect of Re-engineering program on TRFF% (percent of residents who were temporarily removed from the facility."
   ]
  },
  {
   "cell_type": "markdown",
   "id": "4c2ebef9",
   "metadata": {},
   "source": [
    "**Null hypothesis (Ho): Reengineering program has no effect on the TRFF%.**\n",
    "    \n",
    "**Alternate Hypothesis (Ha) :  Reengineering program has an effect on the TRFF%.**\n",
    "    \n",
    "**Confidence Interval : 95% ; p-value : 0.05**"
   ]
  },
  {
   "cell_type": "code",
   "execution_count": null,
   "id": "8b6033f8",
   "metadata": {},
   "outputs": [],
   "source": [
    "Prior_TRFF = Treatment.loc[Treatment.Reengineer == 'Prior', 'VAR4']\n",
    "Post_TRFF  = Treatment.loc[Treatment.Reengineer == 'Post', 'VAR4']\n",
    "\n",
    "print('Mean of TRFF percentage prior to Reengineering program:',Prior_TRFF.mean())\n",
    "print('Mean of TRFF turnover percentage post to Reengineering program:',Post_TRFF.mean())"
   ]
  },
  {
   "cell_type": "code",
   "execution_count": null,
   "id": "d8c65996",
   "metadata": {},
   "outputs": [],
   "source": [
    "stats.f_oneway(Prior_TRFF, Post_TRFF)"
   ]
  },
  {
   "cell_type": "markdown",
   "id": "1b53afd6",
   "metadata": {},
   "source": [
    "***p-value < 0.05, so we can reject the null hypothesis and hence we can say Re-engineering program has an impact on TRFF percentage ie. Re-engineering program has improved the incidence behavioral problems.*** "
   ]
  },
  {
   "cell_type": "code",
   "execution_count": 2,
   "id": "e7d70dfd",
   "metadata": {},
   "outputs": [],
   "source": [
    "# Effect of Re-engineering program on the Critical Incidence rate."
   ]
  },
  {
   "cell_type": "markdown",
   "id": "b941715a",
   "metadata": {},
   "source": [
    "**Null hypothesis (Ho): Reengineering program has no effect on the Critical Incident Rate.**\n",
    "    \n",
    "**Alternate Hypothesis (Ha) :  Reengineering program has an effect on the Critical Incidence Rate..**\n",
    "    \n",
    "**Confidence Interval : 95% ; p-value : 0.05**"
   ]
  },
  {
   "cell_type": "code",
   "execution_count": null,
   "id": "d8257d05",
   "metadata": {},
   "outputs": [],
   "source": [
    "Prior_CI = Treatment.loc[Treatment.Reengineer == 'Prior', 'VAR5']\n",
    "Post_CI  = Treatment.loc[Treatment.Reengineer == 'Post', 'VAR5']\n",
    "\n",
    "print('Mean of Critical Incidence percentage prior to Reengineering program:',Prior_CI.mean())\n",
    "print('Mean of Critical Incidence percentage post to Reengineering program:',Post_CI.mean())"
   ]
  },
  {
   "cell_type": "code",
   "execution_count": null,
   "id": "ffc6647e",
   "metadata": {},
   "outputs": [],
   "source": [
    "stats.f_oneway(Prior_CI, Post_CI)"
   ]
  },
  {
   "cell_type": "markdown",
   "id": "c7024842",
   "metadata": {},
   "source": [
    "***p-value > 0.05, we cannot reject the null hypothesis and we can say Re-engineering program has no effect on the Critical Incidence rate.***"
   ]
  }
 ],
 "metadata": {
  "kernelspec": {
   "display_name": "Python 3 (ipykernel)",
   "language": "python",
   "name": "python3"
  },
  "language_info": {
   "codemirror_mode": {
    "name": "ipython",
    "version": 3
   },
   "file_extension": ".py",
   "mimetype": "text/x-python",
   "name": "python",
   "nbconvert_exporter": "python",
   "pygments_lexer": "ipython3",
   "version": "3.9.7"
  }
 },
 "nbformat": 4,
 "nbformat_minor": 5
}
