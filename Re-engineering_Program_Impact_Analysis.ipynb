{
 "cells": [
  {
   "cell_type": "markdown",
   "id": "524acf07",
   "metadata": {},
   "source": [
    "# Hypothesis Testing :Re-engineering Program Impact Analysis"
   ]
  },
  {
   "cell_type": "code",
   "execution_count": 1,
   "id": "a6ac10a9",
   "metadata": {},
   "outputs": [],
   "source": [
    "#import the packages\n",
    "import pandas as pd\n",
    "import numpy as np\n",
    "import seaborn as sns\n",
    "import matplotlib.pyplot as plt\n",
    "import datetime as dt\n",
    "import re\n",
    "\n",
    "import scipy.stats as stats\n",
    "\n",
    "# set the graphs to show in the jupyter notebook\n",
    "%matplotlib inline\n",
    "\n",
    "# set seabor graphs to a better style\n",
    "sns.set(style=\"ticks\")\n",
    "\n",
    "from dateutil.relativedelta import relativedelta"
   ]
  },
  {
   "cell_type": "code",
   "execution_count": 2,
   "id": "21171544",
   "metadata": {},
   "outputs": [
    {
     "data": {
      "text/html": [
       "<div>\n",
       "<style scoped>\n",
       "    .dataframe tbody tr th:only-of-type {\n",
       "        vertical-align: middle;\n",
       "    }\n",
       "\n",
       "    .dataframe tbody tr th {\n",
       "        vertical-align: top;\n",
       "    }\n",
       "\n",
       "    .dataframe thead th {\n",
       "        text-align: right;\n",
       "    }\n",
       "</style>\n",
       "<table border=\"1\" class=\"dataframe\">\n",
       "  <thead>\n",
       "    <tr style=\"text-align: right;\">\n",
       "      <th></th>\n",
       "      <th>Month</th>\n",
       "      <th>Reengineer</th>\n",
       "      <th>Employee_Turnover</th>\n",
       "      <th>VAR4</th>\n",
       "      <th>VAR5</th>\n",
       "    </tr>\n",
       "  </thead>\n",
       "  <tbody>\n",
       "    <tr>\n",
       "      <th>0</th>\n",
       "      <td>1</td>\n",
       "      <td>Prior</td>\n",
       "      <td>0.0000</td>\n",
       "      <td>24.390244</td>\n",
       "      <td>42.682927</td>\n",
       "    </tr>\n",
       "    <tr>\n",
       "      <th>1</th>\n",
       "      <td>2</td>\n",
       "      <td>Prior</td>\n",
       "      <td>6.0606</td>\n",
       "      <td>19.354839</td>\n",
       "      <td>25.806452</td>\n",
       "    </tr>\n",
       "    <tr>\n",
       "      <th>2</th>\n",
       "      <td>3</td>\n",
       "      <td>Prior</td>\n",
       "      <td>12.1212</td>\n",
       "      <td>35.087719</td>\n",
       "      <td>146.198830</td>\n",
       "    </tr>\n",
       "    <tr>\n",
       "      <th>3</th>\n",
       "      <td>4</td>\n",
       "      <td>Prior</td>\n",
       "      <td>3.3333</td>\n",
       "      <td>18.404908</td>\n",
       "      <td>110.429448</td>\n",
       "    </tr>\n",
       "    <tr>\n",
       "      <th>4</th>\n",
       "      <td>5</td>\n",
       "      <td>Prior</td>\n",
       "      <td>12.9032</td>\n",
       "      <td>17.964072</td>\n",
       "      <td>23.952096</td>\n",
       "    </tr>\n",
       "    <tr>\n",
       "      <th>5</th>\n",
       "      <td>6</td>\n",
       "      <td>Prior</td>\n",
       "      <td>9.6774</td>\n",
       "      <td>41.176471</td>\n",
       "      <td>47.058824</td>\n",
       "    </tr>\n",
       "    <tr>\n",
       "      <th>6</th>\n",
       "      <td>7</td>\n",
       "      <td>Prior</td>\n",
       "      <td>11.7647</td>\n",
       "      <td>13.422819</td>\n",
       "      <td>0.000000</td>\n",
       "    </tr>\n",
       "    <tr>\n",
       "      <th>7</th>\n",
       "      <td>8</td>\n",
       "      <td>Prior</td>\n",
       "      <td>11.4286</td>\n",
       "      <td>31.250000</td>\n",
       "      <td>25.000000</td>\n",
       "    </tr>\n",
       "    <tr>\n",
       "      <th>8</th>\n",
       "      <td>9</td>\n",
       "      <td>Prior</td>\n",
       "      <td>23.0769</td>\n",
       "      <td>17.241379</td>\n",
       "      <td>132.183908</td>\n",
       "    </tr>\n",
       "    <tr>\n",
       "      <th>9</th>\n",
       "      <td>10</td>\n",
       "      <td>Prior</td>\n",
       "      <td>15.0000</td>\n",
       "      <td>16.574586</td>\n",
       "      <td>16.574586</td>\n",
       "    </tr>\n",
       "    <tr>\n",
       "      <th>10</th>\n",
       "      <td>11</td>\n",
       "      <td>Prior</td>\n",
       "      <td>10.0000</td>\n",
       "      <td>5.917160</td>\n",
       "      <td>88.757396</td>\n",
       "    </tr>\n",
       "    <tr>\n",
       "      <th>11</th>\n",
       "      <td>12</td>\n",
       "      <td>Prior</td>\n",
       "      <td>26.0870</td>\n",
       "      <td>21.164021</td>\n",
       "      <td>31.746032</td>\n",
       "    </tr>\n",
       "    <tr>\n",
       "      <th>12</th>\n",
       "      <td>13</td>\n",
       "      <td>Prior</td>\n",
       "      <td>11.1111</td>\n",
       "      <td>5.076142</td>\n",
       "      <td>10.152284</td>\n",
       "    </tr>\n",
       "    <tr>\n",
       "      <th>13</th>\n",
       "      <td>14</td>\n",
       "      <td>Post</td>\n",
       "      <td>26.6667</td>\n",
       "      <td>9.708738</td>\n",
       "      <td>29.126214</td>\n",
       "    </tr>\n",
       "    <tr>\n",
       "      <th>14</th>\n",
       "      <td>15</td>\n",
       "      <td>Post</td>\n",
       "      <td>17.9487</td>\n",
       "      <td>4.201681</td>\n",
       "      <td>21.008403</td>\n",
       "    </tr>\n",
       "    <tr>\n",
       "      <th>15</th>\n",
       "      <td>16</td>\n",
       "      <td>Post</td>\n",
       "      <td>12.8205</td>\n",
       "      <td>13.043478</td>\n",
       "      <td>34.782609</td>\n",
       "    </tr>\n",
       "    <tr>\n",
       "      <th>16</th>\n",
       "      <td>17</td>\n",
       "      <td>Post</td>\n",
       "      <td>15.7895</td>\n",
       "      <td>9.950249</td>\n",
       "      <td>19.900498</td>\n",
       "    </tr>\n",
       "    <tr>\n",
       "      <th>17</th>\n",
       "      <td>18</td>\n",
       "      <td>Post</td>\n",
       "      <td>0.0000</td>\n",
       "      <td>9.950249</td>\n",
       "      <td>9.950249</td>\n",
       "    </tr>\n",
       "    <tr>\n",
       "      <th>18</th>\n",
       "      <td>19</td>\n",
       "      <td>Post</td>\n",
       "      <td>30.7692</td>\n",
       "      <td>8.510638</td>\n",
       "      <td>25.531915</td>\n",
       "    </tr>\n",
       "    <tr>\n",
       "      <th>19</th>\n",
       "      <td>20</td>\n",
       "      <td>Post</td>\n",
       "      <td>26.8293</td>\n",
       "      <td>9.259259</td>\n",
       "      <td>23.148148</td>\n",
       "    </tr>\n",
       "  </tbody>\n",
       "</table>\n",
       "</div>"
      ],
      "text/plain": [
       "    Month Reengineer  Employee_Turnover       VAR4        VAR5\n",
       "0       1      Prior             0.0000  24.390244   42.682927\n",
       "1       2      Prior             6.0606  19.354839   25.806452\n",
       "2       3      Prior            12.1212  35.087719  146.198830\n",
       "3       4      Prior             3.3333  18.404908  110.429448\n",
       "4       5      Prior            12.9032  17.964072   23.952096\n",
       "5       6      Prior             9.6774  41.176471   47.058824\n",
       "6       7      Prior            11.7647  13.422819    0.000000\n",
       "7       8      Prior            11.4286  31.250000   25.000000\n",
       "8       9      Prior            23.0769  17.241379  132.183908\n",
       "9      10      Prior            15.0000  16.574586   16.574586\n",
       "10     11      Prior            10.0000   5.917160   88.757396\n",
       "11     12      Prior            26.0870  21.164021   31.746032\n",
       "12     13      Prior            11.1111   5.076142   10.152284\n",
       "13     14       Post            26.6667   9.708738   29.126214\n",
       "14     15       Post            17.9487   4.201681   21.008403\n",
       "15     16       Post            12.8205  13.043478   34.782609\n",
       "16     17       Post            15.7895   9.950249   19.900498\n",
       "17     18       Post             0.0000   9.950249    9.950249\n",
       "18     19       Post            30.7692   8.510638   25.531915\n",
       "19     20       Post            26.8293   9.259259   23.148148"
      ]
     },
     "execution_count": 2,
     "metadata": {},
     "output_type": "execute_result"
    }
   ],
   "source": [
    "# Load the data\n",
    "Treatment = pd.read_csv( 'Treatment_Facility.csv' )\n",
    "Treatment"
   ]
  },
  {
   "cell_type": "code",
   "execution_count": 3,
   "id": "b404c499",
   "metadata": {},
   "outputs": [],
   "source": [
    "# Effect of Re-engineering program on Employment turnover."
   ]
  },
  {
   "cell_type": "markdown",
   "id": "aebc3e49",
   "metadata": {},
   "source": [
    "**Null hypothesis (Ho): Reengineering program has no effect on the Employee turnover percentage.**\n",
    "    \n",
    "**Alternate Hypothesis (Ha) :  Reengineering program has an effect on the Employee turnover percentage.**\n",
    "    \n",
    "**Confidence Interval : 95% ; p-value : 0.05**"
   ]
  },
  {
   "cell_type": "code",
   "execution_count": 4,
   "id": "cd74e346",
   "metadata": {},
   "outputs": [
    {
     "name": "stdout",
     "output_type": "stream",
     "text": [
      "Mean of Employee turnover percentage prior to Reengineering program: 11.735692307692307\n",
      "Mean of Employee turnover percentage post to Reengineering program: 18.68912857142857\n"
     ]
    }
   ],
   "source": [
    "Prior = Treatment.loc[Treatment.Reengineer == 'Prior', 'Employee_Turnover']\n",
    "Post  = Treatment.loc[Treatment.Reengineer == 'Post', 'Employee_Turnover']\n",
    "\n",
    "print('Mean of Employee turnover percentage prior to Reengineering program:',Prior.mean())\n",
    "print('Mean of Employee turnover percentage post to Reengineering program:',Post.mean())"
   ]
  },
  {
   "cell_type": "code",
   "execution_count": 5,
   "id": "6a47c04f",
   "metadata": {},
   "outputs": [
    {
     "data": {
      "text/plain": [
       "F_onewayResult(statistic=3.133985828895568, pvalue=0.09361109345535291)"
      ]
     },
     "execution_count": 5,
     "metadata": {},
     "output_type": "execute_result"
    }
   ],
   "source": [
    "stats.f_oneway(Prior, Post)"
   ]
  },
  {
   "cell_type": "markdown",
   "id": "ad8a0cbb",
   "metadata": {},
   "source": [
    "***p-value > 0.05, we cannot reject the null hypothesis, and hence we can say Re-engineering program has no effect on the Employee turnover percentage.***"
   ]
  },
  {
   "cell_type": "code",
   "execution_count": 6,
   "id": "961166df",
   "metadata": {},
   "outputs": [],
   "source": [
    "# Effect of Re-engineering program on TRFF% (percent of residents who were temporarily removed from the facility."
   ]
  },
  {
   "cell_type": "markdown",
   "id": "4c2ebef9",
   "metadata": {},
   "source": [
    "**Null hypothesis (Ho): Reengineering program has no effect on the TRFF%.**\n",
    "    \n",
    "**Alternate Hypothesis (Ha) :  Reengineering program has an effect on the TRFF%.**\n",
    "    \n",
    "**Confidence Interval : 95% ; p-value : 0.05**"
   ]
  },
  {
   "cell_type": "code",
   "execution_count": 7,
   "id": "8b6033f8",
   "metadata": {},
   "outputs": [
    {
     "name": "stdout",
     "output_type": "stream",
     "text": [
      "Mean of TRFF percentage prior to Reengineering program: 20.54033531733077\n",
      "Mean of TRFF turnover percentage post to Reengineering program: 9.232041695285714\n"
     ]
    }
   ],
   "source": [
    "Prior_TRFF = Treatment.loc[Treatment.Reengineer == 'Prior', 'VAR4']\n",
    "Post_TRFF  = Treatment.loc[Treatment.Reengineer == 'Post', 'VAR4']\n",
    "\n",
    "print('Mean of TRFF percentage prior to Reengineering program:',Prior_TRFF.mean())\n",
    "print('Mean of TRFF turnover percentage post to Reengineering program:',Post_TRFF.mean())"
   ]
  },
  {
   "cell_type": "code",
   "execution_count": 8,
   "id": "d8c65996",
   "metadata": {},
   "outputs": [
    {
     "data": {
      "text/plain": [
       "F_onewayResult(statistic=7.747306925230095, pvalue=0.01226508213873439)"
      ]
     },
     "execution_count": 8,
     "metadata": {},
     "output_type": "execute_result"
    }
   ],
   "source": [
    "stats.f_oneway(Prior_TRFF, Post_TRFF)"
   ]
  },
  {
   "cell_type": "markdown",
   "id": "1b53afd6",
   "metadata": {},
   "source": [
    "***p-value < 0.05, so we can reject the null hypothesis and hence we can say Re-engineering program has an impact on TRFF percentage ie. Re-engineering program has improved the incidence behavioral problems.*** "
   ]
  },
  {
   "cell_type": "code",
   "execution_count": 9,
   "id": "e7d70dfd",
   "metadata": {},
   "outputs": [],
   "source": [
    "# Effect of Re-engineering program on the Critical Incidence rate."
   ]
  },
  {
   "cell_type": "markdown",
   "id": "b941715a",
   "metadata": {},
   "source": [
    "**Null hypothesis (Ho): Reengineering program has no effect on the Critical Incident Rate.**\n",
    "    \n",
    "**Alternate Hypothesis (Ha) :  Reengineering program has an effect on the Critical Incidence Rate..**\n",
    "    \n",
    "**Confidence Interval : 95% ; p-value : 0.05**"
   ]
  },
  {
   "cell_type": "code",
   "execution_count": 10,
   "id": "d8257d05",
   "metadata": {},
   "outputs": [
    {
     "name": "stdout",
     "output_type": "stream",
     "text": [
      "Mean of Critical Incidence percentage prior to Reengineering program: 53.887906321846145\n",
      "Mean of Critical Incidence percentage post to Reengineering program: 23.34971927988571\n"
     ]
    }
   ],
   "source": [
    "Prior_CI = Treatment.loc[Treatment.Reengineer == 'Prior', 'VAR5']\n",
    "Post_CI  = Treatment.loc[Treatment.Reengineer == 'Post', 'VAR5']\n",
    "\n",
    "print('Mean of Critical Incidence percentage prior to Reengineering program:',Prior_CI.mean())\n",
    "print('Mean of Critical Incidence percentage post to Reengineering program:',Post_CI.mean())"
   ]
  },
  {
   "cell_type": "code",
   "execution_count": 11,
   "id": "ffc6647e",
   "metadata": {},
   "outputs": [
    {
     "data": {
      "text/plain": [
       "F_onewayResult(statistic=2.650105376271948, pvalue=0.12091989189884142)"
      ]
     },
     "execution_count": 11,
     "metadata": {},
     "output_type": "execute_result"
    }
   ],
   "source": [
    "stats.f_oneway(Prior_CI, Post_CI)"
   ]
  },
  {
   "cell_type": "markdown",
   "id": "c7024842",
   "metadata": {},
   "source": [
    "***p-value > 0.05, we cannot reject the null hypothesis and we can say Re-engineering program has no effect on the Critical Incidence rate.***"
   ]
  }
 ],
 "metadata": {
  "kernelspec": {
   "display_name": "Python 3 (ipykernel)",
   "language": "python",
   "name": "python3"
  },
  "language_info": {
   "codemirror_mode": {
    "name": "ipython",
    "version": 3
   },
   "file_extension": ".py",
   "mimetype": "text/x-python",
   "name": "python",
   "nbconvert_exporter": "python",
   "pygments_lexer": "ipython3",
   "version": "3.9.7"
  }
 },
 "nbformat": 4,
 "nbformat_minor": 5
}
